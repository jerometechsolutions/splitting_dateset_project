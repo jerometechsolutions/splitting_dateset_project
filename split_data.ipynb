{
 "cells": [
  {
   "cell_type": "code",
   "execution_count": 15,
   "metadata": {},
   "outputs": [
    {
     "data": {
      "text/plain": [
       "43     216.6\n",
       "108     47.8\n",
       "22     105.8\n",
       "90     268.3\n",
       "5       92.8\n",
       "       ...  \n",
       "87     223.4\n",
       "103     99.3\n",
       "67      16.2\n",
       "24      72.1\n",
       "8       70.0\n",
       "Name: Socialmedia_ads, Length: 96, dtype: float64"
      ]
     },
     "execution_count": 15,
     "metadata": {},
     "output_type": "execute_result"
    }
   ],
   "source": [
    "from sklearn.model_selection import train_test_split\n",
    "import pandas as pd\n",
    "\n",
    "Df= pd.read_csv(\"MarketingExpenses_SalesRevenue.csv\")\n",
    "\n",
    "X=Df['Socialmedia_ads']\n",
    "\n",
    "Y=Df['Sales_revenue']\n",
    "X_train,x_test, Y_train,y_test=train_test_split(X, Y,train_size=.75,test_size=.25, random_state=100)\n",
    "X_train\n"
   ]
  }
 ],
 "metadata": {
  "kernelspec": {
   "display_name": "splitting_dataset",
   "language": "python",
   "name": "python3"
  },
  "language_info": {
   "codemirror_mode": {
    "name": "ipython",
    "version": 3
   },
   "file_extension": ".py",
   "mimetype": "text/x-python",
   "name": "python",
   "nbconvert_exporter": "python",
   "pygments_lexer": "ipython3",
   "version": "3.11.3"
  },
  "orig_nbformat": 4
 },
 "nbformat": 4,
 "nbformat_minor": 2
}
